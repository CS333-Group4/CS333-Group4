{
 "cells": [
  {
   "cell_type": "code",
   "execution_count": 1,
   "metadata": {},
   "outputs": [],
   "source": [
    "import firebase_admin as admin\n",
    "from firebase_admin import credentials\n",
    "import pandas as pd\n",
    "import datetime\n",
    "from firebase_admin import firestore"
   ]
  },
  {
   "cell_type": "code",
   "execution_count": 2,
   "metadata": {},
   "outputs": [],
   "source": [
    "cred = credentials.Certificate(\"credentials.json\")\n",
    "app = admin.initialize_app(cred)"
   ]
  },
  {
   "cell_type": "code",
   "execution_count": 19,
   "metadata": {},
   "outputs": [],
   "source": [
    "fs = firestore.client()\n",
    "listing_documents = fs.collection('listings').get()\n",
    "user_documents = fs.collection('users').get()"
   ]
  },
  {
   "cell_type": "code",
   "execution_count": 21,
   "metadata": {},
   "outputs": [],
   "source": [
    "### New User Information: accountType, phoneNumber, and savedSearches. ###\n",
    "users_id_information = {}\n",
    "for user_doc in user_documents:\n",
    "    data = {}\n",
    "    \"\"\"\n",
    "    # Create empty savedSearches object.\n",
    "    data['savedSearches'] = []\n",
    "    # Determine accountType.\n",
    "    if (\"northwestern.edu\" in user_doc.get('email')):\n",
    "        data['accountType'] = \"student\"\n",
    "    else:\n",
    "        data['accountType'] = \"professional\"\n",
    "    users_id_information[user_doc.id] = data['accountType']\n",
    "    # Add phoneNumber from listings (if one exists).\n",
    "    for listing_id in user_doc.get('listings'):\n",
    "        try:\n",
    "            data['phoneNumber'] = listings[listing_id]\n",
    "        except KeyError:\n",
    "            data['phoneNumber'] = \"\"       \n",
    "    fs.collection('users').document(user_doc.id).set(data, merge=True)\n",
    "    \"\"\"\n",
    "    data[\"uid\"] = user_doc.id\n",
    "    fs.collection('users').document(user_doc.id).set(data, merge=True)"
   ]
  },
  {
   "cell_type": "code",
   "execution_count": 22,
   "metadata": {},
   "outputs": [],
   "source": [
    "### Using new user information, classify each listing's rentalType. Remove sponsored field and merge rentalType.\n",
    "for listing_document in listing_documents:\n",
    "    listing_data = {}\n",
    "    \"\"\"\n",
    "    current = listing_document.get('rentalType')\n",
    "    try: \n",
    "        sponsored = listing_document.get('sponsored')\n",
    "    except KeyError:\n",
    "        sponsored = False;\n",
    "    user_id = listing_document.get('user.uid')\n",
    "    user_account = users_id_information[user_id]\n",
    "    if user_account == \"student\":\n",
    "        if sponsored:\n",
    "            listing_data['rentalType'] = \"student_premium\"\n",
    "        else:\n",
    "            listing_data['rentalType'] = \"student\"\n",
    "    elif user_account == \"professional\":\n",
    "        if sponsored:\n",
    "            listing_data['rentalType'] = \"premium\"\n",
    "        else:\n",
    "            listing_data['rentalType'] = \"basic\"\n",
    "    fs.collection('listings').document(listing_document.id).update({'sponsored': firestore.DELETE_FIELD})\n",
    "    fs.collection('listings').document(listing_document.id).set(listing_data, merge=True)\n",
    "    \"\"\"\n",
    "    listing_data[\"readyTDisplay\"]"
   ]
  },
  {
   "cell_type": "code",
   "execution_count": 20,
   "metadata": {},
   "outputs": [],
   "source": [
    "### Remove Listing Information: Create an array of phone numbers, then remove phone number field from listings. ###\n",
    "listings = {}\n",
    "listing_array = []\n",
    "for document in listing_documents:\n",
    "    try:\n",
    "        listings[document.id] = document.get('phoneNumber')\n",
    "        fs.collection('listings').document(document.id).update({'phoneNumber': firestore.DELETE_FIELD})\n",
    "    except KeyError:\n",
    "        listings[document.id] = \"\""
   ]
  }
 ],
 "metadata": {
  "kernelspec": {
   "display_name": "Python 3",
   "language": "python",
   "name": "python3"
  },
  "language_info": {
   "codemirror_mode": {
    "name": "ipython",
    "version": 3
   },
   "file_extension": ".py",
   "mimetype": "text/x-python",
   "name": "python",
   "nbconvert_exporter": "python",
   "pygments_lexer": "ipython3",
   "version": "3.7.6"
  }
 },
 "nbformat": 4,
 "nbformat_minor": 4
}
