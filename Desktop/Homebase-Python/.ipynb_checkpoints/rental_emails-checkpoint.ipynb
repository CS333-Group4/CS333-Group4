{
 "cells": [
  {
   "cell_type": "code",
   "execution_count": 1,
   "metadata": {},
   "outputs": [],
   "source": [
    "import firebase_admin as admin\n",
    "from firebase_admin import credentials\n",
    "import pandas as pd\n",
    "import datetime\n",
    "from firebase_admin import firestore"
   ]
  },
  {
   "cell_type": "code",
   "execution_count": 2,
   "metadata": {},
   "outputs": [],
   "source": [
    "### GET STAGING INSTEAD OF MAIN!!!! ###\n",
    "#cred = credentials.Certificate(\"homebase-staging-832d6-firebase-adminsdk-5tm2f-9383944e6c.json\")\n",
    "cred = credentials.Certificate(\"credentials.json\")\n",
    "app = admin.initialize_app(cred)"
   ]
  },
  {
   "cell_type": "code",
   "execution_count": 6,
   "metadata": {},
   "outputs": [],
   "source": [
    "fs = firestore.client()\n",
    "listing_documents = fs.collection('listings').get()\n",
    "user_documents = fs.collection('users').get()"
   ]
  },
  {
   "cell_type": "code",
   "execution_count": 20,
   "metadata": {},
   "outputs": [],
   "source": [
    "users = []\n",
    "for listing in listing_documents:\n",
    "    rent_type = listing.get('rentalType')\n",
    "    if rent_type == \"basic\" or rent_type == \"premium\":\n",
    "        val = listing.get('user').get('uid')\n",
    "        if val not in users:\n",
    "            #print(\"duplicate\")\n",
    "            users.append(val)"
   ]
  },
  {
   "cell_type": "code",
   "execution_count": 22,
   "metadata": {},
   "outputs": [
    {
     "name": "stdout",
     "output_type": "stream",
     "text": [
      "['amy.heinz@cbexchange.com', 'mapleevanstonprop@comcast.net', 'nickagnew@live.com', 'ilina@peakrealtychicago.com', 'lguerra@atproperties.com', 'zshearer@bjbevanston.com', 'info@farnsworth-hill.com', 'apartment1838@gmail.com', 'aspatz122@gmail.com', 'standardrentalhomes@gmail.com', 'jkrents@usacdb.com', 'paulgeorge@rentevanston.com', 'kenn@bearman.us', 'irenadearte@gmail.com', 'ronruby123@gmail.com', 'annette.ortiz@gmail.com', 'sam.papin@visionpropertyllc.com', 'michael@rentevanston.com', 'ggaschler@aol.com', 'dadjsmith@gmail.com', 'david@farnsworth-hill.com', 'shermanapartments@gmail.com', 'davidreid325@gmail.com', 'info@bluedoorholdingsllc.com']\n"
     ]
    }
   ],
   "source": [
    "# Grab user emails\n",
    "emails = []\n",
    "for user in users:\n",
    "    email = fs.collection('users').document(user).get().get('email')\n",
    "    emails.append(email)\n",
    "    \n",
    "print(emails)"
   ]
  },
  {
   "cell_type": "code",
   "execution_count": 21,
   "metadata": {},
   "outputs": [
    {
     "name": "stdout",
     "output_type": "stream",
     "text": [
      "['Kx6JXjiy4IfJNwxHNFJYrVdClVf1', 'CUTVGegSCVZZJvWXxeCljbRyRKd2', 'nDLsD07ifZaVVa4jhKqoRGhU9Mv2', '9fOMMpD0ozWKW9TUc1nwusRtosq2', 'DlVuRM8sAJPxnsTCSuiOoaKX3K83', 'GB7jS4lSxpW9F4GSL0o40RNZvk73', 'Y6gMZgOoXWf3nNUtA6shgy7OYrv1', 'sJ5I3DW11dVSKlDRS8ue1GtrNrl1', 'ks5j1A29gZSQph1tDFDkalaLuwG2', 'qfsn9NU6HnbrcSBLASb8AWQTfa82', '19M4KJkDfaTC8OHnUYZBHud7eFw2', 'o4v3sG0gpXe8VozoS0c7w9P8mJZ2', '5MMY5cL6bGX6grDEtxvo2W7MclE3', 'eyTdVvjsaHRRXqAkqMPeCi5ipmb2', 'xJxxkb0vOeXOwva8Dj8rXhZf7292', 'EVCYwhXlYrhSR9PuKyc6lCL1NUi1', 'ewDuJrXb9iNK3338i2xMDkeSFRU2', 'LzLAL2Dj53N1YO8np7DfxNfK1z53', 'OGa8br1MfwXXn2Sv2ZrF3yYWWYj2', 'eCmudof8O1NwgoM4yttATgPjZnv1', '1ZzCzXhrfJPBfGvDWWrmHrbNO5D2', 'IrfNDvno1BczCoNAKtNyLcpkQWI2', 'bISGlfB3IdQ6gpGHaQyBy7i0SDw1', 'qoc67PZ2JRMg2AWU009dLYydvgy1']\n"
     ]
    }
   ],
   "source": [
    "print(users)"
   ]
  },
  {
   "cell_type": "code",
   "execution_count": null,
   "metadata": {},
   "outputs": [],
   "source": []
  }
 ],
 "metadata": {
  "kernelspec": {
   "display_name": "Python 3",
   "language": "python",
   "name": "python3"
  },
  "language_info": {
   "codemirror_mode": {
    "name": "ipython",
    "version": 3
   },
   "file_extension": ".py",
   "mimetype": "text/x-python",
   "name": "python",
   "nbconvert_exporter": "python",
   "pygments_lexer": "ipython3",
   "version": "3.9.1"
  }
 },
 "nbformat": 4,
 "nbformat_minor": 4
}
