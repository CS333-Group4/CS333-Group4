{
 "cells": [
  {
   "cell_type": "code",
   "execution_count": 1,
   "metadata": {},
   "outputs": [],
   "source": [
    "import firebase_admin as admin\n",
    "from firebase_admin import credentials\n",
    "import pandas as pd\n",
    "import datetime\n",
    "from firebase_admin import firestore"
   ]
  },
  {
   "cell_type": "code",
   "execution_count": 2,
   "metadata": {},
   "outputs": [],
   "source": [
    "### GET STAGING INSTEAD OF MAIN!!!! ###\n",
    "#cred = credentials.Certificate(\"homebase-staging-832d6-firebase-adminsdk-5tm2f-9383944e6c.json\")\n",
    "cred = credentials.Certificate(\"credentials.json\")\n",
    "app = admin.initialize_app(cred)"
   ]
  },
  {
   "cell_type": "code",
   "execution_count": 6,
   "metadata": {},
   "outputs": [],
   "source": [
    "fs = firestore.client()\n",
    "listing_documents = fs.collection('listings').get()\n",
    "user_documents = fs.collection('users').get()"
   ]
  },
  {
   "cell_type": "code",
   "execution_count": 10,
   "metadata": {},
   "outputs": [
    {
     "name": "stdout",
     "output_type": "stream",
     "text": [
      "duplicate\n",
      "duplicate\n",
      "duplicate\n",
      "duplicate\n",
      "duplicate\n",
      "duplicate\n",
      "duplicate\n",
      "duplicate\n",
      "duplicate\n",
      "duplicate\n",
      "duplicate\n",
      "duplicate\n",
      "duplicate\n",
      "duplicate\n",
      "duplicate\n",
      "duplicate\n",
      "duplicate\n",
      "duplicate\n",
      "duplicate\n",
      "duplicate\n",
      "duplicate\n",
      "duplicate\n",
      "duplicate\n",
      "duplicate\n",
      "duplicate\n",
      "duplicate\n",
      "duplicate\n",
      "duplicate\n",
      "duplicate\n",
      "duplicate\n",
      "duplicate\n",
      "duplicate\n",
      "duplicate\n",
      "duplicate\n",
      "duplicate\n",
      "duplicate\n",
      "duplicate\n",
      "duplicate\n",
      "duplicate\n",
      "duplicate\n",
      "duplicate\n",
      "duplicate\n",
      "duplicate\n",
      "duplicate\n",
      "duplicate\n",
      "duplicate\n",
      "duplicate\n",
      "duplicate\n",
      "duplicate\n",
      "['Kx6JXjiy4IfJNwxHNFJYrVdClVf1', 'CUTVGegSCVZZJvWXxeCljbRyRKd2', 'BuH1akxh4uVRORhJylL2l4ln7K72', 'LjcxfZhnb5QnNALpdsSxIMmC3QD3', 'gvdq5oPghNdPN6hdWub0UWlwclh1', 'nDLsD07ifZaVVa4jhKqoRGhU9Mv2', '9fOMMpD0ozWKW9TUc1nwusRtosq2', 'DlVuRM8sAJPxnsTCSuiOoaKX3K83', 'GB7jS4lSxpW9F4GSL0o40RNZvk73', 'r6ECf27V7OOEDJsXLwIKU7TOEw62', '3D2QxLMtoyZoFFs5qxapaS4AVRh1', 'Y6gMZgOoXWf3nNUtA6shgy7OYrv1', 'hon6GlKedJhwrPBwN5zBhrHwRM93', 'UFkypphZgMhrqygoEjOPT2ZZRzu2', 'sJ5I3DW11dVSKlDRS8ue1GtrNrl1', 'ks5j1A29gZSQph1tDFDkalaLuwG2', 'qfsn9NU6HnbrcSBLASb8AWQTfa82', '8qaJ6kbhbSeOhWskeUg8yKpKXvl1', 'JbpxFIftf5OpZOgdEzrfOHQ0Jky1', 'Ocsy1cKoNgUnZwEkonL3jaqfvsz1', 't3IsUoCehWMpFzERzdbE5swfqis2', 'pDxFscF3llQhISfKT5CZW5b0xKA2', 'hmQ3rhEHV9ceMteKRF3aIlGLeS73', '19M4KJkDfaTC8OHnUYZBHud7eFw2', 'o4v3sG0gpXe8VozoS0c7w9P8mJZ2', '5MMY5cL6bGX6grDEtxvo2W7MclE3', 'sBeyC9fTdgMKTpM1G99N7QvUxih2', 'eyTdVvjsaHRRXqAkqMPeCi5ipmb2', 'xJxxkb0vOeXOwva8Dj8rXhZf7292', 'HNYMSnwyiqQNVekR4sfsuvRqVMt2', '4zAxzIMi20ZhmSgKXydUzhQQRf12', 'EVCYwhXlYrhSR9PuKyc6lCL1NUi1', 'ewDuJrXb9iNK3338i2xMDkeSFRU2', 'z3Fue4cD68byR71UFINuIWkmVS12', 'LzLAL2Dj53N1YO8np7DfxNfK1z53', 'HvLCdov2cnZpb7Dq60awlnhpYDr2', 'OGa8br1MfwXXn2Sv2ZrF3yYWWYj2', 'eCmudof8O1NwgoM4yttATgPjZnv1', 'if7rxu5Vy3SnZQPWHe2FcoXbTIZ2', 'QMMD1Bn3jYRB9MTwQOwh7Go2hKm1', 'pOkC5nxPpVZSpHJETgckHWZciNP2', '1ZzCzXhrfJPBfGvDWWrmHrbNO5D2', 'hJRf1Wk4ptMpwG3m9wibj9PdjnP2', 'IrfNDvno1BczCoNAKtNyLcpkQWI2', 'bISGlfB3IdQ6gpGHaQyBy7i0SDw1', '8TRZlYgE8UegGFkoIy8q6GwvjwA3', 'jqnc0AI37uhL3P4oX1FQST2kBiG3', 'qoc67PZ2JRMg2AWU009dLYydvgy1', 'yTTAXw3vrYRWoIm9n95ZxaqDvFs1']\n"
     ]
    }
   ],
   "source": [
    "users = []\n",
    "for listing in listing_documents:\n",
    "    val = listing.get('user').get('uid')\n",
    "    if val not in users:\n",
    "        #print(\"duplicate\")\n",
    "        users.append(val)"
   ]
  },
  {
   "cell_type": "code",
   "execution_count": 15,
   "metadata": {},
   "outputs": [
    {
     "ename": "AttributeError",
     "evalue": "'str' object has no attribute 'in_progress'",
     "output_type": "error",
     "traceback": [
      "\u001b[0;31m---------------------------------------------------------------------------\u001b[0m",
      "\u001b[0;31mAttributeError\u001b[0m                            Traceback (most recent call last)",
      "\u001b[0;32m<ipython-input-15-e5234c6a92e9>\u001b[0m in \u001b[0;36m<module>\u001b[0;34m\u001b[0m\n\u001b[1;32m      2\u001b[0m \u001b[0memails\u001b[0m \u001b[0;34m=\u001b[0m \u001b[0;34m[\u001b[0m\u001b[0;34m]\u001b[0m\u001b[0;34m\u001b[0m\u001b[0;34m\u001b[0m\u001b[0m\n\u001b[1;32m      3\u001b[0m \u001b[0;32mfor\u001b[0m \u001b[0muser\u001b[0m \u001b[0;32min\u001b[0m \u001b[0musers\u001b[0m\u001b[0;34m:\u001b[0m\u001b[0;34m\u001b[0m\u001b[0;34m\u001b[0m\u001b[0m\n\u001b[0;32m----> 4\u001b[0;31m     \u001b[0memail\u001b[0m \u001b[0;34m=\u001b[0m \u001b[0mfs\u001b[0m\u001b[0;34m.\u001b[0m\u001b[0mcollection\u001b[0m\u001b[0;34m(\u001b[0m\u001b[0;34m'users'\u001b[0m\u001b[0;34m)\u001b[0m\u001b[0;34m.\u001b[0m\u001b[0mget\u001b[0m\u001b[0;34m(\u001b[0m\u001b[0muser\u001b[0m\u001b[0;34m)\u001b[0m\u001b[0;34m.\u001b[0m\u001b[0mget\u001b[0m\u001b[0;34m(\u001b[0m\u001b[0;34m'email'\u001b[0m\u001b[0;34m)\u001b[0m\u001b[0;34m\u001b[0m\u001b[0;34m\u001b[0m\u001b[0m\n\u001b[0m\u001b[1;32m      5\u001b[0m     \u001b[0memails\u001b[0m\u001b[0;34m.\u001b[0m\u001b[0mappend\u001b[0m\u001b[0;34m(\u001b[0m\u001b[0memail\u001b[0m\u001b[0;34m)\u001b[0m\u001b[0;34m\u001b[0m\u001b[0;34m\u001b[0m\u001b[0m\n\u001b[1;32m      6\u001b[0m \u001b[0;34m\u001b[0m\u001b[0m\n",
      "\u001b[0;32m~/opt/anaconda3/envs/homebase-python/lib/python3.9/site-packages/google/cloud/firestore_v1/collection.py\u001b[0m in \u001b[0;36mget\u001b[0;34m(self, transaction, retry, timeout)\u001b[0m\n\u001b[1;32m    167\u001b[0m         \u001b[0mquery\u001b[0m\u001b[0;34m,\u001b[0m \u001b[0mkwargs\u001b[0m \u001b[0;34m=\u001b[0m \u001b[0mself\u001b[0m\u001b[0;34m.\u001b[0m\u001b[0m_prep_get_or_stream\u001b[0m\u001b[0;34m(\u001b[0m\u001b[0mretry\u001b[0m\u001b[0;34m,\u001b[0m \u001b[0mtimeout\u001b[0m\u001b[0;34m)\u001b[0m\u001b[0;34m\u001b[0m\u001b[0;34m\u001b[0m\u001b[0m\n\u001b[1;32m    168\u001b[0m \u001b[0;34m\u001b[0m\u001b[0m\n\u001b[0;32m--> 169\u001b[0;31m         \u001b[0;32mreturn\u001b[0m \u001b[0mquery\u001b[0m\u001b[0;34m.\u001b[0m\u001b[0mget\u001b[0m\u001b[0;34m(\u001b[0m\u001b[0mtransaction\u001b[0m\u001b[0;34m=\u001b[0m\u001b[0mtransaction\u001b[0m\u001b[0;34m,\u001b[0m \u001b[0;34m**\u001b[0m\u001b[0mkwargs\u001b[0m\u001b[0;34m)\u001b[0m\u001b[0;34m\u001b[0m\u001b[0;34m\u001b[0m\u001b[0m\n\u001b[0m\u001b[1;32m    170\u001b[0m \u001b[0;34m\u001b[0m\u001b[0m\n\u001b[1;32m    171\u001b[0m     def stream(\n",
      "\u001b[0;32m~/opt/anaconda3/envs/homebase-python/lib/python3.9/site-packages/google/cloud/firestore_v1/query.py\u001b[0m in \u001b[0;36mget\u001b[0;34m(self, transaction, retry, timeout)\u001b[0m\n\u001b[1;32m    165\u001b[0m             \u001b[0mresult\u001b[0m \u001b[0;34m=\u001b[0m \u001b[0mreversed\u001b[0m\u001b[0;34m(\u001b[0m\u001b[0mlist\u001b[0m\u001b[0;34m(\u001b[0m\u001b[0mresult\u001b[0m\u001b[0;34m)\u001b[0m\u001b[0;34m)\u001b[0m\u001b[0;34m\u001b[0m\u001b[0;34m\u001b[0m\u001b[0m\n\u001b[1;32m    166\u001b[0m \u001b[0;34m\u001b[0m\u001b[0m\n\u001b[0;32m--> 167\u001b[0;31m         \u001b[0;32mreturn\u001b[0m \u001b[0mlist\u001b[0m\u001b[0;34m(\u001b[0m\u001b[0mresult\u001b[0m\u001b[0;34m)\u001b[0m\u001b[0;34m\u001b[0m\u001b[0;34m\u001b[0m\u001b[0m\n\u001b[0m\u001b[1;32m    168\u001b[0m \u001b[0;34m\u001b[0m\u001b[0m\n\u001b[1;32m    169\u001b[0m     def stream(\n",
      "\u001b[0;32m~/opt/anaconda3/envs/homebase-python/lib/python3.9/site-packages/google/cloud/firestore_v1/query.py\u001b[0m in \u001b[0;36mstream\u001b[0;34m(self, transaction, retry, timeout)\u001b[0m\n\u001b[1;32m    203\u001b[0m             \u001b[0mThe\u001b[0m \u001b[0mnext\u001b[0m \u001b[0mdocument\u001b[0m \u001b[0mthat\u001b[0m \u001b[0mfulfills\u001b[0m \u001b[0mthe\u001b[0m \u001b[0mquery\u001b[0m\u001b[0;34m.\u001b[0m\u001b[0;34m\u001b[0m\u001b[0;34m\u001b[0m\u001b[0m\n\u001b[1;32m    204\u001b[0m         \"\"\"\n\u001b[0;32m--> 205\u001b[0;31m         request, expected_prefix, kwargs = self._prep_stream(\n\u001b[0m\u001b[1;32m    206\u001b[0m             \u001b[0mtransaction\u001b[0m\u001b[0;34m,\u001b[0m \u001b[0mretry\u001b[0m\u001b[0;34m,\u001b[0m \u001b[0mtimeout\u001b[0m\u001b[0;34m,\u001b[0m\u001b[0;34m\u001b[0m\u001b[0;34m\u001b[0m\u001b[0m\n\u001b[1;32m    207\u001b[0m         )\n",
      "\u001b[0;32m~/opt/anaconda3/envs/homebase-python/lib/python3.9/site-packages/google/cloud/firestore_v1/base_query.py\u001b[0m in \u001b[0;36m_prep_stream\u001b[0;34m(self, transaction, retry, timeout)\u001b[0m\n\u001b[1;32m    823\u001b[0m             \u001b[0;34m\"parent\"\u001b[0m\u001b[0;34m:\u001b[0m \u001b[0mparent_path\u001b[0m\u001b[0;34m,\u001b[0m\u001b[0;34m\u001b[0m\u001b[0;34m\u001b[0m\u001b[0m\n\u001b[1;32m    824\u001b[0m             \u001b[0;34m\"structured_query\"\u001b[0m\u001b[0;34m:\u001b[0m \u001b[0mself\u001b[0m\u001b[0;34m.\u001b[0m\u001b[0m_to_protobuf\u001b[0m\u001b[0;34m(\u001b[0m\u001b[0;34m)\u001b[0m\u001b[0;34m,\u001b[0m\u001b[0;34m\u001b[0m\u001b[0;34m\u001b[0m\u001b[0m\n\u001b[0;32m--> 825\u001b[0;31m             \u001b[0;34m\"transaction\"\u001b[0m\u001b[0;34m:\u001b[0m \u001b[0m_helpers\u001b[0m\u001b[0;34m.\u001b[0m\u001b[0mget_transaction_id\u001b[0m\u001b[0;34m(\u001b[0m\u001b[0mtransaction\u001b[0m\u001b[0;34m)\u001b[0m\u001b[0;34m,\u001b[0m\u001b[0;34m\u001b[0m\u001b[0;34m\u001b[0m\u001b[0m\n\u001b[0m\u001b[1;32m    826\u001b[0m         }\n\u001b[1;32m    827\u001b[0m         \u001b[0mkwargs\u001b[0m \u001b[0;34m=\u001b[0m \u001b[0m_helpers\u001b[0m\u001b[0;34m.\u001b[0m\u001b[0mmake_retry_timeout_kwargs\u001b[0m\u001b[0;34m(\u001b[0m\u001b[0mretry\u001b[0m\u001b[0;34m,\u001b[0m \u001b[0mtimeout\u001b[0m\u001b[0;34m)\u001b[0m\u001b[0;34m\u001b[0m\u001b[0;34m\u001b[0m\u001b[0m\n",
      "\u001b[0;32m~/opt/anaconda3/envs/homebase-python/lib/python3.9/site-packages/google/cloud/firestore_v1/_helpers.py\u001b[0m in \u001b[0;36mget_transaction_id\u001b[0;34m(transaction, read_operation)\u001b[0m\n\u001b[1;32m    913\u001b[0m         \u001b[0;32mreturn\u001b[0m \u001b[0;32mNone\u001b[0m\u001b[0;34m\u001b[0m\u001b[0;34m\u001b[0m\u001b[0m\n\u001b[1;32m    914\u001b[0m     \u001b[0;32melse\u001b[0m\u001b[0;34m:\u001b[0m\u001b[0;34m\u001b[0m\u001b[0;34m\u001b[0m\u001b[0m\n\u001b[0;32m--> 915\u001b[0;31m         \u001b[0;32mif\u001b[0m \u001b[0;32mnot\u001b[0m \u001b[0mtransaction\u001b[0m\u001b[0;34m.\u001b[0m\u001b[0min_progress\u001b[0m\u001b[0;34m:\u001b[0m\u001b[0;34m\u001b[0m\u001b[0;34m\u001b[0m\u001b[0m\n\u001b[0m\u001b[1;32m    916\u001b[0m             \u001b[0;32mraise\u001b[0m \u001b[0mValueError\u001b[0m\u001b[0;34m(\u001b[0m\u001b[0mINACTIVE_TXN\u001b[0m\u001b[0;34m)\u001b[0m\u001b[0;34m\u001b[0m\u001b[0;34m\u001b[0m\u001b[0m\n\u001b[1;32m    917\u001b[0m         \u001b[0;32mif\u001b[0m \u001b[0mread_operation\u001b[0m \u001b[0;32mand\u001b[0m \u001b[0mlen\u001b[0m\u001b[0;34m(\u001b[0m\u001b[0mtransaction\u001b[0m\u001b[0;34m.\u001b[0m\u001b[0m_write_pbs\u001b[0m\u001b[0;34m)\u001b[0m \u001b[0;34m>\u001b[0m \u001b[0;36m0\u001b[0m\u001b[0;34m:\u001b[0m\u001b[0;34m\u001b[0m\u001b[0;34m\u001b[0m\u001b[0m\n",
      "\u001b[0;31mAttributeError\u001b[0m: 'str' object has no attribute 'in_progress'"
     ]
    }
   ],
   "source": [
    "# Grab user emails\n",
    "emails = []\n",
    "for user in users:\n",
    "    email = fs.collection('users').get().get('email')\n",
    "    emails.append(email)\n",
    "    \n",
    "print(emails)"
   ]
  },
  {
   "cell_type": "code",
   "execution_count": 14,
   "metadata": {},
   "outputs": [
    {
     "name": "stdout",
     "output_type": "stream",
     "text": [
      "[<google.cloud.firestore_v1.base_document.DocumentSnapshot object at 0x7f9b8f9d1280>, <google.cloud.firestore_v1.base_document.DocumentSnapshot object at 0x7f9b8f670250>, <google.cloud.firestore_v1.base_document.DocumentSnapshot object at 0x7f9b8f7bd550>, <google.cloud.firestore_v1.base_document.DocumentSnapshot object at 0x7f9b8fb0e310>, <google.cloud.firestore_v1.base_document.DocumentSnapshot object at 0x7f9b8f5c7280>, <google.cloud.firestore_v1.base_document.DocumentSnapshot object at 0x7f9b8f63b0a0>, <google.cloud.firestore_v1.base_document.DocumentSnapshot object at 0x7f9b8f907e20>, <google.cloud.firestore_v1.base_document.DocumentSnapshot object at 0x7f9b8fee22b0>, <google.cloud.firestore_v1.base_document.DocumentSnapshot object at 0x7f9b8fa6f610>, <google.cloud.firestore_v1.base_document.DocumentSnapshot object at 0x7f9b8fd44ca0>, <google.cloud.firestore_v1.base_document.DocumentSnapshot object at 0x7f9b8fa504c0>, <google.cloud.firestore_v1.base_document.DocumentSnapshot object at 0x7f9b8fcc5340>, <google.cloud.firestore_v1.base_document.DocumentSnapshot object at 0x7f9b8fe63d60>, <google.cloud.firestore_v1.base_document.DocumentSnapshot object at 0x7f9b8fcbc0a0>, <google.cloud.firestore_v1.base_document.DocumentSnapshot object at 0x7f9b8fa36670>, <google.cloud.firestore_v1.base_document.DocumentSnapshot object at 0x7f9b8f66de20>, <google.cloud.firestore_v1.base_document.DocumentSnapshot object at 0x7f9b8ff087c0>, <google.cloud.firestore_v1.base_document.DocumentSnapshot object at 0x7f9b8f5b07f0>, <google.cloud.firestore_v1.base_document.DocumentSnapshot object at 0x7f9b8f81bbe0>, <google.cloud.firestore_v1.base_document.DocumentSnapshot object at 0x7f9b8fe1efd0>, <google.cloud.firestore_v1.base_document.DocumentSnapshot object at 0x7f9b8fa30d60>, <google.cloud.firestore_v1.base_document.DocumentSnapshot object at 0x7f9b8f94b7c0>, <google.cloud.firestore_v1.base_document.DocumentSnapshot object at 0x7f9b8f8cc160>, <google.cloud.firestore_v1.base_document.DocumentSnapshot object at 0x7f9b8f987be0>, <google.cloud.firestore_v1.base_document.DocumentSnapshot object at 0x7f9b8fa006d0>, <google.cloud.firestore_v1.base_document.DocumentSnapshot object at 0x7f9b8fdd2310>, <google.cloud.firestore_v1.base_document.DocumentSnapshot object at 0x7f9b8ff6fa60>, <google.cloud.firestore_v1.base_document.DocumentSnapshot object at 0x7f9b8fcf35e0>, <google.cloud.firestore_v1.base_document.DocumentSnapshot object at 0x7f9b8fde9580>, <google.cloud.firestore_v1.base_document.DocumentSnapshot object at 0x7f9b8f5fc820>, <google.cloud.firestore_v1.base_document.DocumentSnapshot object at 0x7f9b8fd16370>, <google.cloud.firestore_v1.base_document.DocumentSnapshot object at 0x7f9b8fea1ca0>, <google.cloud.firestore_v1.base_document.DocumentSnapshot object at 0x7f9b8f8cc310>, <google.cloud.firestore_v1.base_document.DocumentSnapshot object at 0x7f9b8fde2d60>, <google.cloud.firestore_v1.base_document.DocumentSnapshot object at 0x7f9b8f82f070>, <google.cloud.firestore_v1.base_document.DocumentSnapshot object at 0x7f9b8f368550>, <google.cloud.firestore_v1.base_document.DocumentSnapshot object at 0x7f9b8fc598b0>, <google.cloud.firestore_v1.base_document.DocumentSnapshot object at 0x7f9b8f52b640>, <google.cloud.firestore_v1.base_document.DocumentSnapshot object at 0x7f9b8fa0f9d0>, <google.cloud.firestore_v1.base_document.DocumentSnapshot object at 0x7f9b8fdd2130>, <google.cloud.firestore_v1.base_document.DocumentSnapshot object at 0x7f9b8fe3d310>, <google.cloud.firestore_v1.base_document.DocumentSnapshot object at 0x7f9b8fea4be0>, <google.cloud.firestore_v1.base_document.DocumentSnapshot object at 0x7f9b8f731c70>, <google.cloud.firestore_v1.base_document.DocumentSnapshot object at 0x7f9b8f672b20>, <google.cloud.firestore_v1.base_document.DocumentSnapshot object at 0x7f9b8fb9bf70>, <google.cloud.firestore_v1.base_document.DocumentSnapshot object at 0x7f9b8fba82b0>, <google.cloud.firestore_v1.base_document.DocumentSnapshot object at 0x7f9b8fecaf10>, <google.cloud.firestore_v1.base_document.DocumentSnapshot object at 0x7f9b8f83ce80>, <google.cloud.firestore_v1.base_document.DocumentSnapshot object at 0x7f9b8f83c550>, <google.cloud.firestore_v1.base_document.DocumentSnapshot object at 0x7f9b8f8c3220>, <google.cloud.firestore_v1.base_document.DocumentSnapshot object at 0x7f9b8fc53190>, <google.cloud.firestore_v1.base_document.DocumentSnapshot object at 0x7f9b8fe82fa0>, <google.cloud.firestore_v1.base_document.DocumentSnapshot object at 0x7f9b8f7ea3a0>, <google.cloud.firestore_v1.base_document.DocumentSnapshot object at 0x7f9b8fe6cee0>, <google.cloud.firestore_v1.base_document.DocumentSnapshot object at 0x7f9b8fa42910>, <google.cloud.firestore_v1.base_document.DocumentSnapshot object at 0x7f9b8fab76a0>, <google.cloud.firestore_v1.base_document.DocumentSnapshot object at 0x7f9b8f67fbe0>, <google.cloud.firestore_v1.base_document.DocumentSnapshot object at 0x7f9b8f987ac0>, <google.cloud.firestore_v1.base_document.DocumentSnapshot object at 0x7f9b8fa7ccd0>, <google.cloud.firestore_v1.base_document.DocumentSnapshot object at 0x7f9b8f8367c0>, <google.cloud.firestore_v1.base_document.DocumentSnapshot object at 0x7f9b8f586340>, <google.cloud.firestore_v1.base_document.DocumentSnapshot object at 0x7f9b8fc53c70>, <google.cloud.firestore_v1.base_document.DocumentSnapshot object at 0x7f9b8fd883a0>, <google.cloud.firestore_v1.base_document.DocumentSnapshot object at 0x7f9b8f39a730>, <google.cloud.firestore_v1.base_document.DocumentSnapshot object at 0x7f9b8fa366d0>, <google.cloud.firestore_v1.base_document.DocumentSnapshot object at 0x7f9b8fb9bdc0>, <google.cloud.firestore_v1.base_document.DocumentSnapshot object at 0x7f9b8f81a790>, <google.cloud.firestore_v1.base_document.DocumentSnapshot object at 0x7f9b8fb84a90>, <google.cloud.firestore_v1.base_document.DocumentSnapshot object at 0x7f9b8ff56c40>, <google.cloud.firestore_v1.base_document.DocumentSnapshot object at 0x7f9b8f557460>, <google.cloud.firestore_v1.base_document.DocumentSnapshot object at 0x7f9b8f537760>, <google.cloud.firestore_v1.base_document.DocumentSnapshot object at 0x7f9b8f8232e0>, <google.cloud.firestore_v1.base_document.DocumentSnapshot object at 0x7f9b8f82b160>, <google.cloud.firestore_v1.base_document.DocumentSnapshot object at 0x7f9b8f81b670>, <google.cloud.firestore_v1.base_document.DocumentSnapshot object at 0x7f9b8fc4c100>, <google.cloud.firestore_v1.base_document.DocumentSnapshot object at 0x7f9b8fe01460>, <google.cloud.firestore_v1.base_document.DocumentSnapshot object at 0x7f9b8f5864f0>, <google.cloud.firestore_v1.base_document.DocumentSnapshot object at 0x7f9b8fe3db80>, <google.cloud.firestore_v1.base_document.DocumentSnapshot object at 0x7f9b8f38e700>, <google.cloud.firestore_v1.base_document.DocumentSnapshot object at 0x7f9b8fce8670>, <google.cloud.firestore_v1.base_document.DocumentSnapshot object at 0x7f9b8fb64280>, <google.cloud.firestore_v1.base_document.DocumentSnapshot object at 0x7f9b8fb70940>, <google.cloud.firestore_v1.base_document.DocumentSnapshot object at 0x7f9b8f397250>, <google.cloud.firestore_v1.base_document.DocumentSnapshot object at 0x7f9b8f9e5910>, <google.cloud.firestore_v1.base_document.DocumentSnapshot object at 0x7f9b8fb0ed90>, <google.cloud.firestore_v1.base_document.DocumentSnapshot object at 0x7f9b8f52bf10>, <google.cloud.firestore_v1.base_document.DocumentSnapshot object at 0x7f9b8f72ca30>, <google.cloud.firestore_v1.base_document.DocumentSnapshot object at 0x7f9b8f9af9a0>, <google.cloud.firestore_v1.base_document.DocumentSnapshot object at 0x7f9b8fbbfca0>, <google.cloud.firestore_v1.base_document.DocumentSnapshot object at 0x7f9b8facf940>, <google.cloud.firestore_v1.base_document.DocumentSnapshot object at 0x7f9b8fa6fa60>, <google.cloud.firestore_v1.base_document.DocumentSnapshot object at 0x7f9b8fd97a00>, <google.cloud.firestore_v1.base_document.DocumentSnapshot object at 0x7f9b8f9875e0>, <google.cloud.firestore_v1.base_document.DocumentSnapshot object at 0x7f9b8fa449d0>, <google.cloud.firestore_v1.base_document.DocumentSnapshot object at 0x7f9b8fbd60d0>, <google.cloud.firestore_v1.base_document.DocumentSnapshot object at 0x7f9b8fe63d90>, <google.cloud.firestore_v1.base_document.DocumentSnapshot object at 0x7f9b8f81a460>, <google.cloud.firestore_v1.base_document.DocumentSnapshot object at 0x7f9b8f72cca0>, <google.cloud.firestore_v1.base_document.DocumentSnapshot object at 0x7f9b8f53cc10>, <google.cloud.firestore_v1.base_document.DocumentSnapshot object at 0x7f9b8f66d7c0>, <google.cloud.firestore_v1.base_document.DocumentSnapshot object at 0x7f9b8f8040a0>, <google.cloud.firestore_v1.base_document.DocumentSnapshot object at 0x7f9b8f3a3490>, <google.cloud.firestore_v1.base_document.DocumentSnapshot object at 0x7f9b8f9e50a0>, <google.cloud.firestore_v1.base_document.DocumentSnapshot object at 0x7f9b8f9b41c0>, <google.cloud.firestore_v1.base_document.DocumentSnapshot object at 0x7f9b8fb1e9d0>, <google.cloud.firestore_v1.base_document.DocumentSnapshot object at 0x7f9b8f908dc0>, <google.cloud.firestore_v1.base_document.DocumentSnapshot object at 0x7f9b8fbfd1c0>, <google.cloud.firestore_v1.base_document.DocumentSnapshot object at 0x7f9b8fb84160>, <google.cloud.firestore_v1.base_document.DocumentSnapshot object at 0x7f9b8ff86fa0>, <google.cloud.firestore_v1.base_document.DocumentSnapshot object at 0x7f9b8fc6ae80>, <google.cloud.firestore_v1.base_document.DocumentSnapshot object at 0x7f9b8fa7c820>, <google.cloud.firestore_v1.base_document.DocumentSnapshot object at 0x7f9b8f5f5f10>, <google.cloud.firestore_v1.base_document.DocumentSnapshot object at 0x7f9b8f61cdc0>, <google.cloud.firestore_v1.base_document.DocumentSnapshot object at 0x7f9b8f61cf10>, <google.cloud.firestore_v1.base_document.DocumentSnapshot object at 0x7f9b8fe1ecd0>, <google.cloud.firestore_v1.base_document.DocumentSnapshot object at 0x7f9b8f602370>, <google.cloud.firestore_v1.base_document.DocumentSnapshot object at 0x7f9b8f9b4910>, <google.cloud.firestore_v1.base_document.DocumentSnapshot object at 0x7f9b8f3c3dc0>, <google.cloud.firestore_v1.base_document.DocumentSnapshot object at 0x7f9b8f5e6940>, <google.cloud.firestore_v1.base_document.DocumentSnapshot object at 0x7f9b8f831760>, <google.cloud.firestore_v1.base_document.DocumentSnapshot object at 0x7f9b8f368af0>, <google.cloud.firestore_v1.base_document.DocumentSnapshot object at 0x7f9b8f72c640>, <google.cloud.firestore_v1.base_document.DocumentSnapshot object at 0x7f9b8f76ec70>, <google.cloud.firestore_v1.base_document.DocumentSnapshot object at 0x7f9b8fe8fc40>, <google.cloud.firestore_v1.base_document.DocumentSnapshot object at 0x7f9b8fb84f70>, <google.cloud.firestore_v1.base_document.DocumentSnapshot object at 0x7f9b8fb0f6d0>, <google.cloud.firestore_v1.base_document.DocumentSnapshot object at 0x7f9b8f7a4e20>, <google.cloud.firestore_v1.base_document.DocumentSnapshot object at 0x7f9b8f8ca8e0>, <google.cloud.firestore_v1.base_document.DocumentSnapshot object at 0x7f9b8f5260d0>, <google.cloud.firestore_v1.base_document.DocumentSnapshot object at 0x7f9b8f65e430>, <google.cloud.firestore_v1.base_document.DocumentSnapshot object at 0x7f9b8f77ed60>, <google.cloud.firestore_v1.base_document.DocumentSnapshot object at 0x7f9b8f5a6100>, <google.cloud.firestore_v1.base_document.DocumentSnapshot object at 0x7f9b8f880220>, <google.cloud.firestore_v1.base_document.DocumentSnapshot object at 0x7f9b8f602a90>, <google.cloud.firestore_v1.base_document.DocumentSnapshot object at 0x7f9b8f9b4310>, <google.cloud.firestore_v1.base_document.DocumentSnapshot object at 0x7f9b8f7ea4f0>, <google.cloud.firestore_v1.base_document.DocumentSnapshot object at 0x7f9b8f3bad00>, <google.cloud.firestore_v1.base_document.DocumentSnapshot object at 0x7f9b8f9595b0>, <google.cloud.firestore_v1.base_document.DocumentSnapshot object at 0x7f9b8fa018b0>, <google.cloud.firestore_v1.base_document.DocumentSnapshot object at 0x7f9b8fa50bb0>, <google.cloud.firestore_v1.base_document.DocumentSnapshot object at 0x7f9b8f55e310>, <google.cloud.firestore_v1.base_document.DocumentSnapshot object at 0x7f9b8f831b50>, <google.cloud.firestore_v1.base_document.DocumentSnapshot object at 0x7f9b8fe82070>, <google.cloud.firestore_v1.base_document.DocumentSnapshot object at 0x7f9b8fa44880>, <google.cloud.firestore_v1.base_document.DocumentSnapshot object at 0x7f9b8fbbee20>, <google.cloud.firestore_v1.base_document.DocumentSnapshot object at 0x7f9b8f3ba910>, <google.cloud.firestore_v1.base_document.DocumentSnapshot object at 0x7f9b8fe9b160>, <google.cloud.firestore_v1.base_document.DocumentSnapshot object at 0x7f9b8fa55730>, <google.cloud.firestore_v1.base_document.DocumentSnapshot object at 0x7f9b8f8b8fa0>, <google.cloud.firestore_v1.base_document.DocumentSnapshot object at 0x7f9b8f3b9160>, <google.cloud.firestore_v1.base_document.DocumentSnapshot object at 0x7f9b8f7739a0>, <google.cloud.firestore_v1.base_document.DocumentSnapshot object at 0x7f9b8fcce670>, <google.cloud.firestore_v1.base_document.DocumentSnapshot object at 0x7f9b8fdb78e0>, <google.cloud.firestore_v1.base_document.DocumentSnapshot object at 0x7f9b8fa36c40>, <google.cloud.firestore_v1.base_document.DocumentSnapshot object at 0x7f9b8f9afb80>, <google.cloud.firestore_v1.base_document.DocumentSnapshot object at 0x7f9b8f55ed00>, <google.cloud.firestore_v1.base_document.DocumentSnapshot object at 0x7f9b8f7ea6a0>, <google.cloud.firestore_v1.base_document.DocumentSnapshot object at 0x7f9b8f5c4f40>, <google.cloud.firestore_v1.base_document.DocumentSnapshot object at 0x7f9b8f92b640>, <google.cloud.firestore_v1.base_document.DocumentSnapshot object at 0x7f9b8fce8760>, <google.cloud.firestore_v1.base_document.DocumentSnapshot object at 0x7f9b8fe3dc40>, <google.cloud.firestore_v1.base_document.DocumentSnapshot object at 0x7f9b8f66d400>, <google.cloud.firestore_v1.base_document.DocumentSnapshot object at 0x7f9b8fab1550>, <google.cloud.firestore_v1.base_document.DocumentSnapshot object at 0x7f9b8fcbddf0>, <google.cloud.firestore_v1.base_document.DocumentSnapshot object at 0x7f9b8ffaa8e0>, <google.cloud.firestore_v1.base_document.DocumentSnapshot object at 0x7f9b8fd9c310>, <google.cloud.firestore_v1.base_document.DocumentSnapshot object at 0x7f9b8fa47b80>, <google.cloud.firestore_v1.base_document.DocumentSnapshot object at 0x7f9b8fbe8d60>, <google.cloud.firestore_v1.base_document.DocumentSnapshot object at 0x7f9b8f8a5d30>, <google.cloud.firestore_v1.base_document.DocumentSnapshot object at 0x7f9b8f83c8b0>, <google.cloud.firestore_v1.base_document.DocumentSnapshot object at 0x7f9b8f537730>, <google.cloud.firestore_v1.base_document.DocumentSnapshot object at 0x7f9b8f7a6b50>, <google.cloud.firestore_v1.base_document.DocumentSnapshot object at 0x7f9b8f5a6c40>, <google.cloud.firestore_v1.base_document.DocumentSnapshot object at 0x7f9b8f7f8670>, <google.cloud.firestore_v1.base_document.DocumentSnapshot object at 0x7f9b8ff92d60>]\n",
      "<google.cloud.firestore_v1.base_document.DocumentSnapshot object at 0x7f9b8f9d1280>\n"
     ]
    }
   ],
   "source": []
  },
  {
   "cell_type": "code",
   "execution_count": null,
   "metadata": {},
   "outputs": [],
   "source": []
  }
 ],
 "metadata": {
  "kernelspec": {
   "display_name": "Python 3",
   "language": "python",
   "name": "python3"
  },
  "language_info": {
   "codemirror_mode": {
    "name": "ipython",
    "version": 3
   },
   "file_extension": ".py",
   "mimetype": "text/x-python",
   "name": "python",
   "nbconvert_exporter": "python",
   "pygments_lexer": "ipython3",
   "version": "3.9.1"
  }
 },
 "nbformat": 4,
 "nbformat_minor": 4
}
