{
 "cells": [
  {
   "cell_type": "code",
   "execution_count": 1,
   "metadata": {},
   "outputs": [],
   "source": [
    "import firebase_admin as admin\n",
    "from firebase_admin import credentials\n",
    "import pandas as pd\n",
    "import datetime\n",
    "from firebase_admin import firestore"
   ]
  },
  {
   "cell_type": "code",
   "execution_count": 2,
   "metadata": {},
   "outputs": [],
   "source": [
    "cred = credentials.Certificate(\"credentials.json\")\n",
    "app = admin.initialize_app(cred)"
   ]
  },
  {
   "cell_type": "code",
   "execution_count": 3,
   "metadata": {},
   "outputs": [],
   "source": [
    "fs = firestore.client()\n",
    "listing_documents = fs.collection('listings').get()\n",
    "user_documents = fs.collection('users').get()"
   ]
  },
  {
   "cell_type": "code",
   "execution_count": 21,
   "metadata": {},
   "outputs": [
    {
     "name": "stdout",
     "output_type": "stream",
     "text": [
      "['1511-Hinman-Ave-Unit-2e-k2O9T_mG4', '2131.5-Ridge-Ave-Unit-1f-ZMmdspylb', '2251-Ridge-Ave-Unit-3g-QolgEcA6M', '2125-Ridge-Ave-Unit-3c-6yn0tSa68', '2255-Ridge-Ave-Unit-3d-ftVYznXXG', '2133.5-Ridge-Ave-Unit-2d-Aikhk9NiY', '2121-Ridge-Ave-Unit-2j-p2HI9BXlG', '2257-Ridge-Ave-Unit-2b-M0NydKZer', '1513-Hinman-Ave-Unit-2n-sFfeQ9Ze7', '-2125-Ridge-Ave-Unit-2c-RDRL7N_Lw']\n"
     ]
    }
   ],
   "source": [
    "specific_user_id = \"Kx6JXjiy4IfJNwxHNFJYrVdClVf1\"\n",
    "\n",
    "listings = fs.collection('users').document(specific_user_id).get().get('listings')\n",
    "\n",
    "print(listings)\n",
    "\n",
    "for listing in listing_documents:\n",
    "    if listing.id in listings:\n",
    "        listing_data = {}\n",
    "        listing_data['readyForDisplay'] = False\n",
    "        fs.collection('listings').document(listing.id).set(listing_data, merge=True)\n"
   ]
  },
  {
   "cell_type": "code",
   "execution_count": null,
   "metadata": {},
   "outputs": [],
   "source": []
  }
 ],
 "metadata": {
  "kernelspec": {
   "display_name": "Python 3",
   "language": "python",
   "name": "python3"
  },
  "language_info": {
   "codemirror_mode": {
    "name": "ipython",
    "version": 3
   },
   "file_extension": ".py",
   "mimetype": "text/x-python",
   "name": "python",
   "nbconvert_exporter": "python",
   "pygments_lexer": "ipython3",
   "version": "3.9.1"
  }
 },
 "nbformat": 4,
 "nbformat_minor": 4
}
