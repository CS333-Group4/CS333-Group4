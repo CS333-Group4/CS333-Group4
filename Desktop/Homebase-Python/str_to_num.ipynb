{
 "cells": [
  {
   "cell_type": "code",
   "execution_count": 1,
   "metadata": {},
   "outputs": [],
   "source": [
    "import firebase_admin as admin\n",
    "from firebase_admin import credentials\n",
    "import pandas as pd\n",
    "import datetime\n",
    "from firebase_admin import firestore"
   ]
  },
  {
   "cell_type": "code",
   "execution_count": 2,
   "metadata": {},
   "outputs": [],
   "source": [
    "### GET STAGING INSTEAD OF MAIN!!!! ###\n",
    "#cred = credentials.Certificate(\"homebase-staging-832d6-firebase-adminsdk-5tm2f-9383944e6c.json\")\n",
    "cred = credentials.Certificate(\"credentials.json\")\n",
    "app = admin.initialize_app(cred)"
   ]
  },
  {
   "cell_type": "code",
   "execution_count": 3,
   "metadata": {},
   "outputs": [],
   "source": [
    "fs = firestore.client()\n",
    "listing_documents = fs.collection('listings').get()\n",
    "user_documents = fs.collection('users').get()"
   ]
  },
  {
   "cell_type": "code",
   "execution_count": 4,
   "metadata": {},
   "outputs": [],
   "source": [
    "### Find entries that should be numbers, parse the string and convert to numbers.\n",
    "for listing_document in listing_documents:\n",
    "    listing_data = {}\n",
    "    current_strings = ['bathrooms', 'bedrooms', 'price', 'squareFeet']\n",
    "    \n",
    "    for c in current_strings:\n",
    "        \"\"\"\n",
    "        if c=='squareFeet' and listing_document.get(c)=='':\n",
    "            new_entry\n",
    "        \"\"\"\n",
    "            \n",
    "        try:\n",
    "            current_entry = listing_document.get(c)\n",
    "            new_entry = float(current_entry) #Possibly float? but I'm assuming no decimals\n",
    "            \n",
    "        except:\n",
    "            new_entry = float(0)\n",
    "            \n",
    "        listing_data[c] = new_entry\n",
    "    \n",
    "    fs.collection('listings').document(listing_document.id).set(listing_data, merge=True)"
   ]
  },
  {
   "cell_type": "code",
   "execution_count": 7,
   "metadata": {},
   "outputs": [
    {
     "name": "stdout",
     "output_type": "stream",
     "text": [
      "-2125-Ridge-Ave-Unit-2c-RDRL7N_Lw\n",
      "1024-Garnett-Place-Apartment-2-Li885pmeJ\n",
      "subscriptionId not found:  1103-Garnett-Fj2kpHFCV\n",
      "subscriptionId not found:  1103-Garnett-jplHZQPU8\n",
      "1124-Noyes-Street-z2PmNRpfm\n",
      "1125-Davis-St-Unit-E-1-hAqxye9me\n",
      "1210-Chicago-Unit-607-AV2g25rph\n",
      "1410-Chicago-Ave-bfl8RQ3lK\n",
      "1410-Chicago-Ave.-yCrhTLzFC\n",
      "1420-Chicago-Ave.-9kPwmtZvf\n",
      "1420-Chicago-Ave.-sMklk-O6s\n",
      "1511-Hinman-Ave-Unit-2e-k2O9T_mG4\n",
      "1513-Hinman-Ave-Unit-2n-sFfeQ9Ze7\n",
      "1575-Oak-St.-EGK2odZRH\n",
      "1608-Greenleaf-St.-Unit-1-ZNlL6FWiK\n",
      "1618-Payne-R4EVoNYh8\n",
      "1630-Chicago-Ave-YIS7kpXI6\n",
      "1720-Maple-Ave-Unit-840-owei9_uz2\n",
      "1822-Ridge-U7e3Tyukh\n",
      "1822-Ridge-W2Ut0RRQ5\n",
      "1822-Ridge-m8n9Ph0V-\n",
      "1822-Ridge-sMLBLM-vd\n",
      "1918-Orrington-Ave-1VHnAZhLp\n",
      "1924-Sherman-Avenue-2north-QfPhS6Cci\n",
      "1924-Sherman-Avenue-Garden-South-r0pDjflWH\n",
      "subscriptionId not found:  1945-Sherman-T33jT39eD\n",
      "2001-Orrington-Ave-DKZR6vP3G\n",
      "2010-Maple-Ave-Apt-2-JpunXpquf\n",
      "2122-Dewey-EMLh5aHw0\n",
      "2133.5-Ridge-Ave-Unit-2d-Aikhk9NiY\n",
      "subscriptionId not found:  2211-Maple Ave-VIpBWhf7cu\n",
      "2211-Maple-Ave.-M0h9Ke65W\n",
      "2251-Ridge-Ave-Unit-3g-QolgEcA6M\n",
      "2255-Ridge-Ave-Unit-3d-ftVYznXXG\n",
      "2257-Ridge-Ave-Unit-2a-2XXg0zBpK\n",
      "2257-Ridge-Ave-Unit-2b-M0NydKZer\n",
      "714-Foster-Street-rTmTm6074\n",
      "718-Foster-Street--Ym3rqYm3b\n",
      "720-Foster-Street-PV_0Mnn3q\n",
      "721-Foster-5oQeidQNw\n",
      "828-Noyes--iAntT8r3G\n",
      "828-Noyes-Street-BiFu_TCzd\n",
      "828-Noyes-Street-IInBOlpFs\n",
      "828-Noyes-zui2igOnW\n",
      "829-Foster-gBzi6UjQ7\n",
      "829-Simpson-OQGWkWOeH\n",
      "912-Hamlin-St.-aXrtwQev2\n",
      "Orrington-Ave-caVZe42ar\n",
      "failed:  listings-unavailable\n"
     ]
    }
   ],
   "source": [
    "\"\"\"for listing in listing_documents:\n",
    "    try:\n",
    "        if listing.get('rentalType') != \"student\" and listing.get('rentalType') != \"student_premium\":\n",
    "            try:\n",
    "                sub_var = listing.get('subscriptionId')\n",
    "                if sub_var == \"\":\n",
    "                    print(listing.id)\n",
    "                    fs.collection('listings').document(listing.id).set({'readyForDisplay': False}, merge=True)\n",
    "            except:\n",
    "                print(\"subscriptionId not found: \", listing.id)\n",
    "                if listing.id != \"2211-Maple Ave-VIpBWhf7cu\":\n",
    "                    pass\n",
    "                    fs.collection('listings').document(listing.id).set({'readyForDisplay': False}, merge=True)\n",
    "    except:\n",
    "        print(\"failed: \", listing.id)\"\"\""
   ]
  },
  {
   "cell_type": "code",
   "execution_count": null,
   "metadata": {},
   "outputs": [],
   "source": []
  }
 ],
 "metadata": {
  "kernelspec": {
   "display_name": "Python 3",
   "language": "python",
   "name": "python3"
  },
  "language_info": {
   "codemirror_mode": {
    "name": "ipython",
    "version": 3
   },
   "file_extension": ".py",
   "mimetype": "text/x-python",
   "name": "python",
   "nbconvert_exporter": "python",
   "pygments_lexer": "ipython3",
   "version": "3.9.1"
  }
 },
 "nbformat": 4,
 "nbformat_minor": 4
}
