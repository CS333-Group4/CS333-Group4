{
 "cells": [
  {
   "cell_type": "code",
   "execution_count": 1,
   "metadata": {},
   "outputs": [],
   "source": [
    "import firebase_admin as admin\n",
    "from firebase_admin import credentials, storage\n",
    "import pandas as pd\n",
    "import datetime\n",
    "from firebase_admin import firestore"
   ]
  },
  {
   "cell_type": "code",
   "execution_count": 2,
   "metadata": {},
   "outputs": [],
   "source": [
    "#cred = credentials.Certificate(\"homebase-staging-832d6-firebase-adminsdk-5tm2f-9383944e6c.json\")\n",
    "cred = credentials.Certificate(\"credentials.json\")\n",
    "app = admin.initialize_app(cred)"
   ]
  },
  {
   "cell_type": "code",
   "execution_count": 3,
   "metadata": {},
   "outputs": [],
   "source": [
    "fs = firestore.client()\n",
    "listing_documents = fs.collection('listings').get()"
   ]
  },
  {
   "cell_type": "code",
   "execution_count": 5,
   "metadata": {},
   "outputs": [
    {
     "name": "stdout",
     "output_type": "stream",
     "text": [
      "47 22 69\n"
     ]
    }
   ],
   "source": [
    "false_count = 0\n",
    "true_count = 0\n",
    "for listing_doc in listing_documents:\n",
    "    # Check if readyForDisplay is True or not, set to False as necessary.\n",
    "    if listing_doc.get('readyForDisplay'):\n",
    "        true_count += 1\n",
    "    else:\n",
    "        false_count += 1\n",
    "\n",
    "print (true_count, false_count, true_count + false_count)"
   ]
  },
  {
   "cell_type": "code",
   "execution_count": null,
   "metadata": {},
   "outputs": [],
   "source": []
  },
  {
   "cell_type": "code",
   "execution_count": null,
   "metadata": {},
   "outputs": [],
   "source": []
  }
 ],
 "metadata": {
  "kernelspec": {
   "display_name": "Python 3",
   "language": "python",
   "name": "python3"
  },
  "language_info": {
   "codemirror_mode": {
    "name": "ipython",
    "version": 3
   },
   "file_extension": ".py",
   "mimetype": "text/x-python",
   "name": "python",
   "nbconvert_exporter": "python",
   "pygments_lexer": "ipython3",
   "version": "3.9.1"
  }
 },
 "nbformat": 4,
 "nbformat_minor": 4
}
