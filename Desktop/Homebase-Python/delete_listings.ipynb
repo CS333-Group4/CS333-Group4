{
 "cells": [
  {
   "cell_type": "code",
   "execution_count": 1,
   "metadata": {},
   "outputs": [],
   "source": [
    "import firebase_admin as admin\n",
    "from firebase_admin import credentials, storage\n",
    "import pandas as pd\n",
    "import datetime\n",
    "from firebase_admin import firestore"
   ]
  },
  {
   "cell_type": "code",
   "execution_count": 2,
   "metadata": {},
   "outputs": [],
   "source": [
    "cred = credentials.Certificate(\"homebase-staging-832d6-firebase-adminsdk-5tm2f-9383944e6c.json\")\n",
    "#cred = credentials.Certificate(\"credentials.json\")\n",
    "app = admin.initialize_app(cred, {'storageBucket': \"homebase-48c20.appspot.com\"})"
   ]
  },
  {
   "cell_type": "code",
   "execution_count": 3,
   "metadata": {},
   "outputs": [],
   "source": [
    "fs = firestore.client()\n",
    "listing_documents = fs.collection('listings').get()\n",
    "user_documents = fs.collection('users').get()"
   ]
  },
  {
   "cell_type": "code",
   "execution_count": 4,
   "metadata": {},
   "outputs": [
    {
     "name": "stdout",
     "output_type": "stream",
     "text": [
      "                                                    0          1  \\\n",
      "0                         1119-Garnett-Pl-2-9A6K-WTNY 2021-03-31   \n",
      "1               1500-Chicago-Avenue-Apt-609-YDYnZtj7S 2021-06-30   \n",
      "2                       1500-Chicago-Avenue-jWRz4Ptci 2021-06-30   \n",
      "3                       1500-Chicago-Avenue-v6UG5K9ek 2021-06-30   \n",
      "4                      1521-W-Jonquil-Ter-3-pnp7ZIYY8 2021-06-30   \n",
      "5             1637-Orrington-Avenue-Apt-801-uI9WdMdiP 2021-03-31   \n",
      "6             1735-Chicago-Avenue-Apt.-810n-HAtNjgzM1 2021-04-01   \n",
      "7                       1945-Sherman-Avenue-4WTucOwjV 2021-06-30   \n",
      "8                    2121-Ridge-Ave-Unit-2j-p2HI9BXlG 2021-06-30   \n",
      "9                    2125-Ridge-Ave-Unit-3c-6yn0tSa68 2021-06-30   \n",
      "10                 2131.5-Ridge-Ave-Unit-1f-ZMmdspylb 2021-06-30   \n",
      "11                      2525-Eastwood-Ave.--5WLTV0HKJ 2021-04-30   \n",
      "12  716---720-Clark-Apartments,-716-Clark-Street-U... 2021-03-21   \n",
      "13                     800-Custer-Avenue-2h-G9jfhDJuU 2020-12-31   \n",
      "14                      807-Davis--Unit-407-lgGyxF4xd 2020-12-31   \n",
      "15                           811-Emerson-St-5cwUj0u-g 2021-03-15   \n",
      "16            811-Emerson-St.-Apartment-509-hJY3R5ude 2021-03-20   \n",
      "17                           829-Simpson-St-SnvlLQgqW 2021-03-31   \n",
      "18                        855-Hinman-Avenue-ADjUeS-iJ 2021-02-17   \n",
      "\n",
      "                        2                                        3  \\\n",
      "0            Anne Teeling       anneteeling2021@u.northwestern.edu   \n",
      "1              Jingya Xun         jingyaxun2020@u.northwestern.edu   \n",
      "2   Farnsworth-Hill, Inc.                 info@farnsworth-hill.com   \n",
      "3   Farnsworth-Hill, Inc.                 info@farnsworth-hill.com   \n",
      "4            Anne Daquino       annedaquino2019@u.northwestern.edu   \n",
      "5           Emma Flanders      emmaflanders2021@u.northwestern.edu   \n",
      "6       Christina Stearns  christinastearns2023@u.northwestern.edu   \n",
      "7           Sarah Johnson      sarahjohnson2022@u.northwestern.edu   \n",
      "8               Amy Heinz                 amy.heinz@cbexchange.com   \n",
      "9               Amy Heinz                 amy.heinz@cbexchange.com   \n",
      "10              Amy Heinz                 amy.heinz@cbexchange.com   \n",
      "11          Annette Ortiz                  annette.ortiz@gmail.com   \n",
      "12            Damien Heng        damienheng2022@u.northwestern.edu   \n",
      "13       Benjamin Smelser   benjaminsmelser2019@u.northwestern.edu   \n",
      "14        Gloria Gaschler                        ggaschler@aol.com   \n",
      "15            DS The Link                      dadjsmith@gmail.com   \n",
      "16           Ananya Gupta       ananyagupta2022@u.northwestern.edu   \n",
      "17            Ben Gherman   benjamingherman2022@u.northwestern.edu   \n",
      "18        Mikayla Hampton    mikaylahampton2021@u.northwestern.edu   \n",
      "\n",
      "               4  5  \n",
      "0   5.152298e+09  N  \n",
      "1   6.192281e+09  N  \n",
      "2            NaN  N  \n",
      "3            NaN  N  \n",
      "4            NaN  N  \n",
      "5   6.467013e+09  N  \n",
      "6   3.479972e+09  N  \n",
      "7            NaN  N  \n",
      "8            NaN  N  \n",
      "9            NaN  N  \n",
      "10           NaN  N  \n",
      "11  2.246077e+09  N  \n",
      "12           NaN  N  \n",
      "13           NaN  N  \n",
      "14           NaN  N  \n",
      "15           NaN  N  \n",
      "16           NaN  N  \n",
      "17           NaN  N  \n",
      "18           NaN  N  \n"
     ]
    }
   ],
   "source": [
    "# Read excel file with desired deletions.\n",
    "stale_deletes = pd.read_excel(\"listings_to_delete.xlsx\", header=None)"
   ]
  },
  {
   "cell_type": "code",
   "execution_count": 4,
   "metadata": {},
   "outputs": [],
   "source": [
    "# Grab the Listing URIs from the first column, convert to list.\n",
    "#uris_delete = stale_deletes[0].tolist()\n",
    "for user_doc in user_documents:\n",
    "    fs.collection('users').document(user_doc.id).set({'listings' : []}, merge=True)"
   ]
  },
  {
   "cell_type": "code",
   "execution_count": 6,
   "metadata": {},
   "outputs": [],
   "source": [
    "# For each listing URI, delete and clean up.\n",
    "for uri in uris_delete:\n",
    "    # Grab the UID before deleting.\n",
    "    listing_uid = fs.collection('listings').document(uri).get().get('user')['uid']\n",
    "    # Remove the listing from the user's list.\n",
    "    curr_listings = fs.collection('users').document(listing_uid).get().get('listings')\n",
    "    curr_listings.remove(uri)\n",
    "    fs.collection('users').document(listing_uid).set({'listings': curr_listings}, merge=True)\n",
    "    # Delete the listing.\n",
    "    fs.collection('listings').document(uri).delete()\n",
    "    "
   ]
  },
  {
   "cell_type": "code",
   "execution_count": 7,
   "metadata": {},
   "outputs": [],
   "source": [
    "# Delete all listing photos from non-existing listings.\n",
    "bucket = storage.bucket()\n",
    "blobs = bucket.list_blobs(prefix=\"listing-images/\")\n",
    "for blob in blobs:\n",
    "    for uri in uris_delete:\n",
    "        if uri in blob.name:\n",
    "            blob.delete()"
   ]
  },
  {
   "cell_type": "code",
   "execution_count": null,
   "metadata": {},
   "outputs": [],
   "source": []
  },
  {
   "cell_type": "code",
   "execution_count": null,
   "metadata": {},
   "outputs": [],
   "source": []
  },
  {
   "cell_type": "code",
   "execution_count": null,
   "metadata": {},
   "outputs": [],
   "source": []
  },
  {
   "cell_type": "code",
   "execution_count": null,
   "metadata": {},
   "outputs": [],
   "source": []
  }
 ],
 "metadata": {
  "kernelspec": {
   "display_name": "Python 3",
   "language": "python",
   "name": "python3"
  },
  "language_info": {
   "codemirror_mode": {
    "name": "ipython",
    "version": 3
   },
   "file_extension": ".py",
   "mimetype": "text/x-python",
   "name": "python",
   "nbconvert_exporter": "python",
   "pygments_lexer": "ipython3",
   "version": "3.9.1"
  }
 },
 "nbformat": 4,
 "nbformat_minor": 4
}
