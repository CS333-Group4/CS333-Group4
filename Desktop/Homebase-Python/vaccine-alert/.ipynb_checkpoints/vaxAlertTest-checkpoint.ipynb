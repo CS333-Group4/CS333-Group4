{
 "cells": [
  {
   "cell_type": "code",
   "execution_count": 1,
   "metadata": {},
   "outputs": [
    {
     "data": {
      "text/plain": [
       "<firebase_admin.App at 0x7fe59e7705b0>"
      ]
     },
     "execution_count": 1,
     "metadata": {},
     "output_type": "execute_result"
    }
   ],
   "source": [
    "import firebase_admin\n",
    "from firebase_admin import credentials\n",
    "from datetime import datetime\n",
    "from firebase_admin import firestore\n",
    "\n",
    "cred = credentials.Certificate(\"vaccine-credentials.json\")\n",
    "firebase_admin.initialize_app(cred)"
   ]
  },
  {
   "cell_type": "code",
   "execution_count": 2,
   "metadata": {},
   "outputs": [],
   "source": [
    "fs = firestore.client()\n",
    "provider_docs = fs.collection('providers').get()\n",
    "user_docs = fs.collection('users').get()"
   ]
  },
  {
   "cell_type": "code",
   "execution_count": 19,
   "metadata": {},
   "outputs": [
    {
     "name": "stdout",
     "output_type": "stream",
     "text": [
      "2021-04-10T12:39:10.054Z\n"
     ]
    },
    {
     "data": {
      "text/plain": [
       "update_time {\n",
       "  seconds: 1618076350\n",
       "  nanos: 122591000\n",
       "}"
      ]
     },
     "execution_count": 19,
     "metadata": {},
     "output_type": "execute_result"
    }
   ],
   "source": [
    "# Update the metadata file with the new updated date.\n",
    "# Last thing in metadata must be a valid ISO string - update to current time + 1 day.\n",
    "current_date = datetime.now().isoformat()\n",
    "current_date = current_date[:len(current_date) - 3] + 'Z'\n",
    "print(current_date)\n",
    "\n",
    "data = {'last_updated' : current_date}\n",
    "\n",
    "\n",
    "fs.collection('providers').document('metadata').set(data, merge=True)\n"
   ]
  },
  {
   "cell_type": "code",
   "execution_count": 18,
   "metadata": {},
   "outputs": [
    {
     "data": {
      "text/plain": [
       "update_time {\n",
       "  seconds: 1618076269\n",
       "  nanos: 522053000\n",
       "}"
      ]
     },
     "execution_count": 18,
     "metadata": {},
     "output_type": "execute_result"
    }
   ],
   "source": [
    "# Flip first two providers email_to_send and phone_to_send to true.\n",
    "data = {'phone_to_send' : True}\n",
    "fs.collection('providers').document('01500f87-332b-4b2d-8a73-c91c6e559fda').set(data, merge=True)\n",
    "fs.collection('providers').document('173000c5-160b-4740-870c-0b561592b21b').set(data, merge=True)\n",
    "# Flip first two providers phone_to_send to true."
   ]
  }
 ],
 "metadata": {
  "kernelspec": {
   "display_name": "Python 3",
   "language": "python",
   "name": "python3"
  },
  "language_info": {
   "codemirror_mode": {
    "name": "ipython",
    "version": 3
   },
   "file_extension": ".py",
   "mimetype": "text/x-python",
   "name": "python",
   "nbconvert_exporter": "python",
   "pygments_lexer": "ipython3",
   "version": "3.9.1"
  }
 },
 "nbformat": 4,
 "nbformat_minor": 4
}
