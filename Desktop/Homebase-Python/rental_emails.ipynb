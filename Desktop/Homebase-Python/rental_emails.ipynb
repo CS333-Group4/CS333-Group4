{
 "cells": [
  {
   "cell_type": "code",
   "execution_count": 12,
   "metadata": {},
   "outputs": [],
   "source": [
    "import firebase_admin as admin\n",
    "from firebase_admin import credentials\n",
    "import pandas as pd\n",
    "import datetime\n",
    "from firebase_admin import firestore\n",
    "import os"
   ]
  },
  {
   "cell_type": "code",
   "execution_count": 2,
   "metadata": {},
   "outputs": [],
   "source": [
    "### GET STAGING INSTEAD OF MAIN!!!! ###\n",
    "#cred = credentials.Certificate(\"homebase-staging-832d6-firebase-adminsdk-5tm2f-9383944e6c.json\")\n",
    "cred = credentials.Certificate(\"credentials.json\")\n",
    "app = admin.initialize_app(cred)"
   ]
  },
  {
   "cell_type": "code",
   "execution_count": 3,
   "metadata": {},
   "outputs": [],
   "source": [
    "fs = firestore.client()\n",
    "listing_documents = fs.collection('listings').get()\n",
    "user_documents = fs.collection('users').get()"
   ]
  },
  {
   "cell_type": "code",
   "execution_count": 4,
   "metadata": {},
   "outputs": [
    {
     "name": "stdout",
     "output_type": "stream",
     "text": [
      "Total users: 190\n",
      "EDU users: 140\n"
     ]
    }
   ],
   "source": [
    "edu_count = 0\n",
    "count = 0\n",
    "for user_doc in user_documents:\n",
    "    count += 1\n",
    "    if \".edu\" in user_doc.get('email'):\n",
    "        edu_count += 1\n",
    "        \n",
    "print(\"Total users: \" + str(count))\n",
    "print(\"EDU users: \" + str(edu_count))"
   ]
  },
  {
   "cell_type": "code",
   "execution_count": 6,
   "metadata": {},
   "outputs": [
    {
     "name": "stdout",
     "output_type": "stream",
     "text": [
      "nah\n"
     ]
    }
   ],
   "source": [
    "users = []\n",
    "for listing in listing_documents:\n",
    "    try:\n",
    "        rent_type = listing.get('rentalType')\n",
    "        if rent_type == \"basic\" or rent_type == \"premium\":\n",
    "            val = listing.get('user').get('uid')\n",
    "            if val not in users:\n",
    "                #print(\"duplicate\")\n",
    "                users.append(val)\n",
    "    except:\n",
    "        print(\"nah\")"
   ]
  },
  {
   "cell_type": "code",
   "execution_count": 10,
   "metadata": {},
   "outputs": [
    {
     "data": {
      "text/html": [
       "<div>\n",
       "<style scoped>\n",
       "    .dataframe tbody tr th:only-of-type {\n",
       "        vertical-align: middle;\n",
       "    }\n",
       "\n",
       "    .dataframe tbody tr th {\n",
       "        vertical-align: top;\n",
       "    }\n",
       "\n",
       "    .dataframe thead th {\n",
       "        text-align: right;\n",
       "    }\n",
       "</style>\n",
       "<table border=\"1\" class=\"dataframe\">\n",
       "  <thead>\n",
       "    <tr style=\"text-align: right;\">\n",
       "      <th></th>\n",
       "      <th>0</th>\n",
       "      <th>1</th>\n",
       "      <th>2</th>\n",
       "    </tr>\n",
       "  </thead>\n",
       "  <tbody>\n",
       "    <tr>\n",
       "      <th>0</th>\n",
       "      <td>amy.heinz@cbexchange.com</td>\n",
       "      <td>Amy Heinz</td>\n",
       "      <td></td>\n",
       "    </tr>\n",
       "    <tr>\n",
       "      <th>1</th>\n",
       "      <td>mapleevanstonprop@comcast.net</td>\n",
       "      <td>Sara Karoll</td>\n",
       "      <td></td>\n",
       "    </tr>\n",
       "    <tr>\n",
       "      <th>2</th>\n",
       "      <td>nickagnew@live.com</td>\n",
       "      <td>Nick</td>\n",
       "      <td>(312) 718-3600</td>\n",
       "    </tr>\n",
       "    <tr>\n",
       "      <th>3</th>\n",
       "      <td>ilina@peakrealtychicago.com</td>\n",
       "      <td>Ilina Ivanovska</td>\n",
       "      <td>3129613368</td>\n",
       "    </tr>\n",
       "    <tr>\n",
       "      <th>4</th>\n",
       "      <td>lguerra@atproperties.com</td>\n",
       "      <td>Leticia Guerra</td>\n",
       "      <td></td>\n",
       "    </tr>\n",
       "    <tr>\n",
       "      <th>5</th>\n",
       "      <td>zshearer@bjbevanston.com</td>\n",
       "      <td>Zach Shearer</td>\n",
       "      <td>2246782593</td>\n",
       "    </tr>\n",
       "    <tr>\n",
       "      <th>6</th>\n",
       "      <td>apartment1838@gmail.com</td>\n",
       "      <td>Doug Tee</td>\n",
       "      <td></td>\n",
       "    </tr>\n",
       "    <tr>\n",
       "      <th>7</th>\n",
       "      <td>aspatz122@gmail.com</td>\n",
       "      <td>Andrew Spatz</td>\n",
       "      <td></td>\n",
       "    </tr>\n",
       "    <tr>\n",
       "      <th>8</th>\n",
       "      <td>standardrentalhomes@gmail.com</td>\n",
       "      <td>Cameron Laurence</td>\n",
       "      <td>(650) 988-5071</td>\n",
       "    </tr>\n",
       "    <tr>\n",
       "      <th>9</th>\n",
       "      <td>jkrents@usacdb.com</td>\n",
       "      <td>Evanston 2 Bedroom</td>\n",
       "      <td>312-656-1143</td>\n",
       "    </tr>\n",
       "    <tr>\n",
       "      <th>10</th>\n",
       "      <td>rentpurplewhite@gmail.com</td>\n",
       "      <td>Max</td>\n",
       "      <td>(773) 724-0655</td>\n",
       "    </tr>\n",
       "    <tr>\n",
       "      <th>11</th>\n",
       "      <td>paulgeorge@rentevanston.com</td>\n",
       "      <td>Paul G.</td>\n",
       "      <td></td>\n",
       "    </tr>\n",
       "    <tr>\n",
       "      <th>12</th>\n",
       "      <td>kenn@bearman.us</td>\n",
       "      <td>Kenneth Bearman</td>\n",
       "      <td>8475142800</td>\n",
       "    </tr>\n",
       "    <tr>\n",
       "      <th>13</th>\n",
       "      <td>irenadearte@gmail.com</td>\n",
       "      <td>BOKIKI</td>\n",
       "      <td></td>\n",
       "    </tr>\n",
       "    <tr>\n",
       "      <th>14</th>\n",
       "      <td>ronruby123@gmail.com</td>\n",
       "      <td>Ron Ruby</td>\n",
       "      <td>(312) 320-8807</td>\n",
       "    </tr>\n",
       "    <tr>\n",
       "      <th>15</th>\n",
       "      <td>sam.papin@visionpropertyllc.com</td>\n",
       "      <td>Sam</td>\n",
       "      <td></td>\n",
       "    </tr>\n",
       "    <tr>\n",
       "      <th>16</th>\n",
       "      <td>michael@rentevanston.com</td>\n",
       "      <td>Rent Evanston</td>\n",
       "      <td>773 490 4834</td>\n",
       "    </tr>\n",
       "    <tr>\n",
       "      <th>17</th>\n",
       "      <td>info@farnsworth-hill.com</td>\n",
       "      <td>Farnsworth-Hill, Inc.</td>\n",
       "      <td></td>\n",
       "    </tr>\n",
       "    <tr>\n",
       "      <th>18</th>\n",
       "      <td>david@farnsworth-hill.com</td>\n",
       "      <td>828 Noyes Lofts</td>\n",
       "      <td>847-328-3330</td>\n",
       "    </tr>\n",
       "    <tr>\n",
       "      <th>19</th>\n",
       "      <td>shermanapartments@gmail.com</td>\n",
       "      <td>Sherman Apartments</td>\n",
       "      <td></td>\n",
       "    </tr>\n",
       "    <tr>\n",
       "      <th>20</th>\n",
       "      <td>davidreid325@gmail.com</td>\n",
       "      <td>David reid</td>\n",
       "      <td></td>\n",
       "    </tr>\n",
       "    <tr>\n",
       "      <th>21</th>\n",
       "      <td>info@bluedoorholdingsllc.com</td>\n",
       "      <td>Blue Door Holdings LLC</td>\n",
       "      <td></td>\n",
       "    </tr>\n",
       "  </tbody>\n",
       "</table>\n",
       "</div>"
      ],
      "text/plain": [
       "                                  0                       1               2\n",
       "0          amy.heinz@cbexchange.com               Amy Heinz                \n",
       "1     mapleevanstonprop@comcast.net             Sara Karoll                \n",
       "2                nickagnew@live.com                    Nick  (312) 718-3600\n",
       "3       ilina@peakrealtychicago.com         Ilina Ivanovska      3129613368\n",
       "4          lguerra@atproperties.com          Leticia Guerra                \n",
       "5          zshearer@bjbevanston.com            Zach Shearer      2246782593\n",
       "6           apartment1838@gmail.com                Doug Tee                \n",
       "7               aspatz122@gmail.com            Andrew Spatz                \n",
       "8     standardrentalhomes@gmail.com        Cameron Laurence  (650) 988-5071\n",
       "9                jkrents@usacdb.com      Evanston 2 Bedroom    312-656-1143\n",
       "10        rentpurplewhite@gmail.com                     Max  (773) 724-0655\n",
       "11      paulgeorge@rentevanston.com                 Paul G.                \n",
       "12                  kenn@bearman.us         Kenneth Bearman      8475142800\n",
       "13            irenadearte@gmail.com                  BOKIKI                \n",
       "14             ronruby123@gmail.com                Ron Ruby  (312) 320-8807\n",
       "15  sam.papin@visionpropertyllc.com                     Sam                \n",
       "16         michael@rentevanston.com           Rent Evanston    773 490 4834\n",
       "17         info@farnsworth-hill.com   Farnsworth-Hill, Inc.                \n",
       "18        david@farnsworth-hill.com         828 Noyes Lofts    847-328-3330\n",
       "19      shermanapartments@gmail.com      Sherman Apartments                \n",
       "20           davidreid325@gmail.com              David reid                \n",
       "21     info@bluedoorholdingsllc.com  Blue Door Holdings LLC                "
      ]
     },
     "execution_count": 10,
     "metadata": {},
     "output_type": "execute_result"
    }
   ],
   "source": [
    "# Grab user emails\n",
    "emails = []\n",
    "for user in users:\n",
    "    email = fs.collection('users').document(user).get().get('email')\n",
    "    name = fs.collection('users').document(user).get().get('displayName')\n",
    "    phone = fs.collection('users').document(user).get().get('phoneNumber')\n",
    "    emails.append([email, name, phone])\n"
   ]
  },
  {
   "cell_type": "code",
   "execution_count": 14,
   "metadata": {},
   "outputs": [],
   "source": [
    "result = pd.DataFrame(emails)\n",
    "cwd = os.getcwd()\n",
    "path = cwd + \"/Current_Landlords.csv\"\n",
    "result.to_csv(path)"
   ]
  },
  {
   "cell_type": "code",
   "execution_count": 21,
   "metadata": {},
   "outputs": [
    {
     "name": "stdout",
     "output_type": "stream",
     "text": [
      "['Kx6JXjiy4IfJNwxHNFJYrVdClVf1', 'CUTVGegSCVZZJvWXxeCljbRyRKd2', 'nDLsD07ifZaVVa4jhKqoRGhU9Mv2', '9fOMMpD0ozWKW9TUc1nwusRtosq2', 'DlVuRM8sAJPxnsTCSuiOoaKX3K83', 'GB7jS4lSxpW9F4GSL0o40RNZvk73', 'Y6gMZgOoXWf3nNUtA6shgy7OYrv1', 'sJ5I3DW11dVSKlDRS8ue1GtrNrl1', 'ks5j1A29gZSQph1tDFDkalaLuwG2', 'qfsn9NU6HnbrcSBLASb8AWQTfa82', '19M4KJkDfaTC8OHnUYZBHud7eFw2', 'o4v3sG0gpXe8VozoS0c7w9P8mJZ2', '5MMY5cL6bGX6grDEtxvo2W7MclE3', 'eyTdVvjsaHRRXqAkqMPeCi5ipmb2', 'xJxxkb0vOeXOwva8Dj8rXhZf7292', 'EVCYwhXlYrhSR9PuKyc6lCL1NUi1', 'ewDuJrXb9iNK3338i2xMDkeSFRU2', 'LzLAL2Dj53N1YO8np7DfxNfK1z53', 'OGa8br1MfwXXn2Sv2ZrF3yYWWYj2', 'eCmudof8O1NwgoM4yttATgPjZnv1', '1ZzCzXhrfJPBfGvDWWrmHrbNO5D2', 'IrfNDvno1BczCoNAKtNyLcpkQWI2', 'bISGlfB3IdQ6gpGHaQyBy7i0SDw1', 'qoc67PZ2JRMg2AWU009dLYydvgy1']\n"
     ]
    }
   ],
   "source": [
    "print(users)"
   ]
  },
  {
   "cell_type": "code",
   "execution_count": null,
   "metadata": {},
   "outputs": [],
   "source": []
  }
 ],
 "metadata": {
  "kernelspec": {
   "display_name": "Python 3",
   "language": "python",
   "name": "python3"
  },
  "language_info": {
   "codemirror_mode": {
    "name": "ipython",
    "version": 3
   },
   "file_extension": ".py",
   "mimetype": "text/x-python",
   "name": "python",
   "nbconvert_exporter": "python",
   "pygments_lexer": "ipython3",
   "version": "3.9.1"
  }
 },
 "nbformat": 4,
 "nbformat_minor": 4
}
