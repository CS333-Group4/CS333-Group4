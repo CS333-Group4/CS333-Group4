{
 "cells": [
  {
   "cell_type": "code",
   "execution_count": 1,
   "metadata": {},
   "outputs": [],
   "source": [
    "import firebase_admin as admin\n",
    "from firebase_admin import credentials\n",
    "import pandas as pd\n",
    "import datetime\n",
    "from firebase_admin import firestore"
   ]
  },
  {
   "cell_type": "code",
   "execution_count": 2,
   "metadata": {},
   "outputs": [],
   "source": [
    "cred = credentials.Certificate(\"credentials.json\")\n",
    "app = admin.initialize_app(cred)"
   ]
  },
  {
   "cell_type": "code",
   "execution_count": 3,
   "metadata": {},
   "outputs": [],
   "source": [
    "fs = firestore.client()\n",
    "listing_documents = fs.collection('listings').get()\n",
    "user_documents = fs.collection('users').get()"
   ]
  },
  {
   "cell_type": "code",
   "execution_count": 10,
   "metadata": {},
   "outputs": [
    {
     "name": "stdout",
     "output_type": "stream",
     "text": [
      "860-Hinman-Ave-EjSyyG09g\n",
      "860-Hinman-Ave-EjSyyG09g\n",
      "1410-Chicago-Ave-2rAux2uwU\n",
      "1410-Chicago-Ave-2rAux2uwU\n",
      "1410-Chicago-Ave-i-yN8KNdQ\n",
      "1410-Chicago-Ave-i-yN8KNdQ\n",
      "860-Hinman-Ave-9xzrPfglt\n",
      "860-Hinman-Ave-9xzrPfglt\n",
      "2321-Central-uuX14jCu9\n",
      "2321-Central-uuX14jCu9\n"
     ]
    }
   ],
   "source": [
    "# enter desired user ids to swap and obtain their listing arrays\n",
    "user1id = 'GB7jS4lSxpW9F4GSL0o40RNZvk73'\n",
    "user2id = 'P4HWqtBjevRgUMAlm2olkliyD0b2'\n",
    "\n",
    "user1listings = fs.collection('users').document(user1id).get().get('listings')\n",
    "user2listings = fs.collection('users').document(user2id).get().get('listings')\n",
    "\n",
    "# set each listing's user id field to the new user (2 becomes 1, 1 becomes 2)\n",
    "for element in user1listings:\n",
    "    listing_data = {}\n",
    "    listing_data['uid'] = user2id\n",
    "    #fs.collection('listings').document(element).set(listing_data, merge=True)\n",
    "for element in user2listings:\n",
    "    listing_data = {}\n",
    "    listing_data['uid'] = user1id\n",
    "    #fs.collection('listings').document(element).set(listing_data, merge=True)\n",
    "\n",
    "# swap listing arrays\n",
    "#fs.collection('users').document(user1id).set({'listings': user2listings}, merge=True)\n",
    "#fs.collection('users').document(user2id).set({'listings': user1listings}, merge=True)\n"
   ]
  },
  {
   "cell_type": "code",
   "execution_count": null,
   "metadata": {},
   "outputs": [],
   "source": []
  }
 ],
 "metadata": {
  "kernelspec": {
   "display_name": "Python 3",
   "language": "python",
   "name": "python3"
  },
  "language_info": {
   "codemirror_mode": {
    "name": "ipython",
    "version": 3
   },
   "file_extension": ".py",
   "mimetype": "text/x-python",
   "name": "python",
   "nbconvert_exporter": "python",
   "pygments_lexer": "ipython3",
   "version": "3.7.6"
  }
 },
 "nbformat": 4,
 "nbformat_minor": 2
}
